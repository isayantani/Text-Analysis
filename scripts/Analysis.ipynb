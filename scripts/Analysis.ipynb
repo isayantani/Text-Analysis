{
 "cells": [
  {
   "cell_type": "code",
   "execution_count": 1,
   "metadata": {
    "collapsed": false
   },
   "outputs": [],
   "source": [
    "import os\n",
    "import string\n",
    "import numpy as np # linear algebra\n",
    "import pandas as pd # data processing, CSV file I/O (e.g. pd.read_csv)\n",
    "from subprocess import check_output\n",
    "import matplotlib.pyplot as plt\n",
    "import seaborn as sns\n",
    "\n",
    "%matplotlib inline\n",
    "sns.set(color_codes=True)\n",
    "sns.set_style(\"white\")\n",
    "\n",
    "from plotly.offline import plot\n",
    "import plotly.graph_objs as go\n",
    "\n",
    "import sklearn.ensemble\n",
    "from sklearn.ensemble import RandomForestClassifier, GradientBoostingClassifier\n",
    "from sklearn.model_selection import train_test_split\n",
    "from sklearn.metrics import accuracy_score, log_loss\n",
    "\n",
    "import re\n",
    "import nltk\n",
    "from nltk.corpus import stopwords\n",
    "import string\n",
    "from collections import Counter\n",
    "from sklearn.feature_extraction.text import TfidfVectorizer, CountVectorizer\n",
    "from nltk.stem.porter import *\n",
    "from string import punctuation"
   ]
  },
  {
   "cell_type": "code",
   "execution_count": 2,
   "metadata": {
    "collapsed": false
   },
   "outputs": [],
   "source": [
    "stops = set(stopwords.words(\"english\"))\n",
    "stemmer = PorterStemmer()\n",
    "TARGET = 'is_duplicate'\n",
    "ID = 'id'\n",
    "NUM_PLACEHOLDER = 'NUMBER'\n",
    "\n",
    "metrics = list()"
   ]
  },
  {
   "cell_type": "code",
   "execution_count": 3,
   "metadata": {
    "collapsed": true
   },
   "outputs": [],
   "source": [
    "def find_unigrams(question):\n",
    "    word_tokens = question.split()\n",
    "    word_tokens = [w for w in word_tokens if not w in stops]\n",
    "    word_tokens = list(map(str.lower, word_tokens))\n",
    "    return word_tokens\n",
    "\n",
    "def shared_words(row):\n",
    "    q1_tokens = row['q1_tokens']\n",
    "    q2_tokens = row['q2_tokens']\n",
    "    matching_words = [w for w in q1_tokens if w in q2_tokens]\n",
    "    return matching_words\n",
    "\n",
    "def shared_prop(row):\n",
    "    q1_len      = row['q1_len']\n",
    "    q2_len      = row['q2_len']\n",
    "    shared_len  = row['shared_len']\n",
    "    return shared_len / (q1_len + q2_len)"
   ]
  },
  {
   "cell_type": "code",
   "execution_count": 84,
   "metadata": {
    "collapsed": false
   },
   "outputs": [
    {
     "ename": "FileNotFoundError",
     "evalue": "File b'/home/sayantani/Projects/Kaggle/Quora/input/train.csv' does not exist",
     "output_type": "error",
     "traceback": [
      "\u001b[1;31m---------------------------------------------------------------------------\u001b[0m",
      "\u001b[1;31mFileNotFoundError\u001b[0m                         Traceback (most recent call last)",
      "\u001b[1;32m<ipython-input-84-0a2515d75606>\u001b[0m in \u001b[0;36m<module>\u001b[1;34m()\u001b[0m\n\u001b[1;32m----> 1\u001b[1;33m \u001b[0mtrain_set\u001b[0m \u001b[1;33m=\u001b[0m \u001b[0mpd\u001b[0m\u001b[1;33m.\u001b[0m\u001b[0mread_csv\u001b[0m\u001b[1;33m(\u001b[0m\u001b[0mos\u001b[0m\u001b[1;33m.\u001b[0m\u001b[0mgetcwd\u001b[0m\u001b[1;33m(\u001b[0m\u001b[1;33m)\u001b[0m \u001b[1;33m+\u001b[0m \u001b[1;34m'/input/train.csv'\u001b[0m\u001b[1;33m)\u001b[0m\u001b[1;33m\u001b[0m\u001b[0m\n\u001b[0m\u001b[0;32m      2\u001b[0m \u001b[0mtest_set\u001b[0m \u001b[1;33m=\u001b[0m \u001b[0mpd\u001b[0m\u001b[1;33m.\u001b[0m\u001b[0mread_csv\u001b[0m\u001b[1;33m(\u001b[0m\u001b[0mos\u001b[0m\u001b[1;33m.\u001b[0m\u001b[0mgetcwd\u001b[0m\u001b[1;33m(\u001b[0m\u001b[1;33m)\u001b[0m \u001b[1;33m+\u001b[0m \u001b[1;34m'/input/test.csv'\u001b[0m\u001b[1;33m)\u001b[0m\u001b[1;33m\u001b[0m\u001b[0m\n\u001b[0;32m      3\u001b[0m \u001b[1;33m\u001b[0m\u001b[0m\n\u001b[0;32m      4\u001b[0m \u001b[0mtrain_set\u001b[0m\u001b[1;33m[\u001b[0m\u001b[1;34m'question1'\u001b[0m\u001b[1;33m]\u001b[0m \u001b[1;33m=\u001b[0m \u001b[0mtrain_set\u001b[0m\u001b[1;33m[\u001b[0m\u001b[1;34m'question1'\u001b[0m\u001b[1;33m]\u001b[0m\u001b[1;33m.\u001b[0m\u001b[0mfillna\u001b[0m\u001b[1;33m(\u001b[0m\u001b[1;34m''\u001b[0m\u001b[1;33m)\u001b[0m\u001b[1;33m\u001b[0m\u001b[0m\n\u001b[0;32m      5\u001b[0m \u001b[0mtrain_set\u001b[0m\u001b[1;33m[\u001b[0m\u001b[1;34m'question2'\u001b[0m\u001b[1;33m]\u001b[0m \u001b[1;33m=\u001b[0m \u001b[0mtrain_set\u001b[0m\u001b[1;33m[\u001b[0m\u001b[1;34m'question2'\u001b[0m\u001b[1;33m]\u001b[0m\u001b[1;33m.\u001b[0m\u001b[0mfillna\u001b[0m\u001b[1;33m(\u001b[0m\u001b[1;34m''\u001b[0m\u001b[1;33m)\u001b[0m\u001b[1;33m\u001b[0m\u001b[0m\n",
      "\u001b[1;32m/home/sayantani/anaconda3/lib/python3.5/site-packages/pandas/io/parsers.py\u001b[0m in \u001b[0;36mparser_f\u001b[1;34m(filepath_or_buffer, sep, delimiter, header, names, index_col, usecols, squeeze, prefix, mangle_dupe_cols, dtype, engine, converters, true_values, false_values, skipinitialspace, skiprows, nrows, na_values, keep_default_na, na_filter, verbose, skip_blank_lines, parse_dates, infer_datetime_format, keep_date_col, date_parser, dayfirst, iterator, chunksize, compression, thousands, decimal, lineterminator, quotechar, quoting, escapechar, comment, encoding, dialect, tupleize_cols, error_bad_lines, warn_bad_lines, skipfooter, skip_footer, doublequote, delim_whitespace, as_recarray, compact_ints, use_unsigned, low_memory, buffer_lines, memory_map, float_precision)\u001b[0m\n\u001b[0;32m    653\u001b[0m                     skip_blank_lines=skip_blank_lines)\n\u001b[0;32m    654\u001b[0m \u001b[1;33m\u001b[0m\u001b[0m\n\u001b[1;32m--> 655\u001b[1;33m         \u001b[1;32mreturn\u001b[0m \u001b[0m_read\u001b[0m\u001b[1;33m(\u001b[0m\u001b[0mfilepath_or_buffer\u001b[0m\u001b[1;33m,\u001b[0m \u001b[0mkwds\u001b[0m\u001b[1;33m)\u001b[0m\u001b[1;33m\u001b[0m\u001b[0m\n\u001b[0m\u001b[0;32m    656\u001b[0m \u001b[1;33m\u001b[0m\u001b[0m\n\u001b[0;32m    657\u001b[0m     \u001b[0mparser_f\u001b[0m\u001b[1;33m.\u001b[0m\u001b[0m__name__\u001b[0m \u001b[1;33m=\u001b[0m \u001b[0mname\u001b[0m\u001b[1;33m\u001b[0m\u001b[0m\n",
      "\u001b[1;32m/home/sayantani/anaconda3/lib/python3.5/site-packages/pandas/io/parsers.py\u001b[0m in \u001b[0;36m_read\u001b[1;34m(filepath_or_buffer, kwds)\u001b[0m\n\u001b[0;32m    403\u001b[0m \u001b[1;33m\u001b[0m\u001b[0m\n\u001b[0;32m    404\u001b[0m     \u001b[1;31m# Create the parser.\u001b[0m\u001b[1;33m\u001b[0m\u001b[1;33m\u001b[0m\u001b[0m\n\u001b[1;32m--> 405\u001b[1;33m     \u001b[0mparser\u001b[0m \u001b[1;33m=\u001b[0m \u001b[0mTextFileReader\u001b[0m\u001b[1;33m(\u001b[0m\u001b[0mfilepath_or_buffer\u001b[0m\u001b[1;33m,\u001b[0m \u001b[1;33m**\u001b[0m\u001b[0mkwds\u001b[0m\u001b[1;33m)\u001b[0m\u001b[1;33m\u001b[0m\u001b[0m\n\u001b[0m\u001b[0;32m    406\u001b[0m \u001b[1;33m\u001b[0m\u001b[0m\n\u001b[0;32m    407\u001b[0m     \u001b[1;32mif\u001b[0m \u001b[0mchunksize\u001b[0m \u001b[1;32mor\u001b[0m \u001b[0miterator\u001b[0m\u001b[1;33m:\u001b[0m\u001b[1;33m\u001b[0m\u001b[0m\n",
      "\u001b[1;32m/home/sayantani/anaconda3/lib/python3.5/site-packages/pandas/io/parsers.py\u001b[0m in \u001b[0;36m__init__\u001b[1;34m(self, f, engine, **kwds)\u001b[0m\n\u001b[0;32m    760\u001b[0m             \u001b[0mself\u001b[0m\u001b[1;33m.\u001b[0m\u001b[0moptions\u001b[0m\u001b[1;33m[\u001b[0m\u001b[1;34m'has_index_names'\u001b[0m\u001b[1;33m]\u001b[0m \u001b[1;33m=\u001b[0m \u001b[0mkwds\u001b[0m\u001b[1;33m[\u001b[0m\u001b[1;34m'has_index_names'\u001b[0m\u001b[1;33m]\u001b[0m\u001b[1;33m\u001b[0m\u001b[0m\n\u001b[0;32m    761\u001b[0m \u001b[1;33m\u001b[0m\u001b[0m\n\u001b[1;32m--> 762\u001b[1;33m         \u001b[0mself\u001b[0m\u001b[1;33m.\u001b[0m\u001b[0m_make_engine\u001b[0m\u001b[1;33m(\u001b[0m\u001b[0mself\u001b[0m\u001b[1;33m.\u001b[0m\u001b[0mengine\u001b[0m\u001b[1;33m)\u001b[0m\u001b[1;33m\u001b[0m\u001b[0m\n\u001b[0m\u001b[0;32m    763\u001b[0m \u001b[1;33m\u001b[0m\u001b[0m\n\u001b[0;32m    764\u001b[0m     \u001b[1;32mdef\u001b[0m \u001b[0mclose\u001b[0m\u001b[1;33m(\u001b[0m\u001b[0mself\u001b[0m\u001b[1;33m)\u001b[0m\u001b[1;33m:\u001b[0m\u001b[1;33m\u001b[0m\u001b[0m\n",
      "\u001b[1;32m/home/sayantani/anaconda3/lib/python3.5/site-packages/pandas/io/parsers.py\u001b[0m in \u001b[0;36m_make_engine\u001b[1;34m(self, engine)\u001b[0m\n\u001b[0;32m    964\u001b[0m     \u001b[1;32mdef\u001b[0m \u001b[0m_make_engine\u001b[0m\u001b[1;33m(\u001b[0m\u001b[0mself\u001b[0m\u001b[1;33m,\u001b[0m \u001b[0mengine\u001b[0m\u001b[1;33m=\u001b[0m\u001b[1;34m'c'\u001b[0m\u001b[1;33m)\u001b[0m\u001b[1;33m:\u001b[0m\u001b[1;33m\u001b[0m\u001b[0m\n\u001b[0;32m    965\u001b[0m         \u001b[1;32mif\u001b[0m \u001b[0mengine\u001b[0m \u001b[1;33m==\u001b[0m \u001b[1;34m'c'\u001b[0m\u001b[1;33m:\u001b[0m\u001b[1;33m\u001b[0m\u001b[0m\n\u001b[1;32m--> 966\u001b[1;33m             \u001b[0mself\u001b[0m\u001b[1;33m.\u001b[0m\u001b[0m_engine\u001b[0m \u001b[1;33m=\u001b[0m \u001b[0mCParserWrapper\u001b[0m\u001b[1;33m(\u001b[0m\u001b[0mself\u001b[0m\u001b[1;33m.\u001b[0m\u001b[0mf\u001b[0m\u001b[1;33m,\u001b[0m \u001b[1;33m**\u001b[0m\u001b[0mself\u001b[0m\u001b[1;33m.\u001b[0m\u001b[0moptions\u001b[0m\u001b[1;33m)\u001b[0m\u001b[1;33m\u001b[0m\u001b[0m\n\u001b[0m\u001b[0;32m    967\u001b[0m         \u001b[1;32melse\u001b[0m\u001b[1;33m:\u001b[0m\u001b[1;33m\u001b[0m\u001b[0m\n\u001b[0;32m    968\u001b[0m             \u001b[1;32mif\u001b[0m \u001b[0mengine\u001b[0m \u001b[1;33m==\u001b[0m \u001b[1;34m'python'\u001b[0m\u001b[1;33m:\u001b[0m\u001b[1;33m\u001b[0m\u001b[0m\n",
      "\u001b[1;32m/home/sayantani/anaconda3/lib/python3.5/site-packages/pandas/io/parsers.py\u001b[0m in \u001b[0;36m__init__\u001b[1;34m(self, src, **kwds)\u001b[0m\n\u001b[0;32m   1580\u001b[0m         \u001b[0mkwds\u001b[0m\u001b[1;33m[\u001b[0m\u001b[1;34m'allow_leading_cols'\u001b[0m\u001b[1;33m]\u001b[0m \u001b[1;33m=\u001b[0m \u001b[0mself\u001b[0m\u001b[1;33m.\u001b[0m\u001b[0mindex_col\u001b[0m \u001b[1;32mis\u001b[0m \u001b[1;32mnot\u001b[0m \u001b[1;32mFalse\u001b[0m\u001b[1;33m\u001b[0m\u001b[0m\n\u001b[0;32m   1581\u001b[0m \u001b[1;33m\u001b[0m\u001b[0m\n\u001b[1;32m-> 1582\u001b[1;33m         \u001b[0mself\u001b[0m\u001b[1;33m.\u001b[0m\u001b[0m_reader\u001b[0m \u001b[1;33m=\u001b[0m \u001b[0mparsers\u001b[0m\u001b[1;33m.\u001b[0m\u001b[0mTextReader\u001b[0m\u001b[1;33m(\u001b[0m\u001b[0msrc\u001b[0m\u001b[1;33m,\u001b[0m \u001b[1;33m**\u001b[0m\u001b[0mkwds\u001b[0m\u001b[1;33m)\u001b[0m\u001b[1;33m\u001b[0m\u001b[0m\n\u001b[0m\u001b[0;32m   1583\u001b[0m \u001b[1;33m\u001b[0m\u001b[0m\n\u001b[0;32m   1584\u001b[0m         \u001b[1;31m# XXX\u001b[0m\u001b[1;33m\u001b[0m\u001b[1;33m\u001b[0m\u001b[0m\n",
      "\u001b[1;32mpandas/_libs/parsers.pyx\u001b[0m in \u001b[0;36mpandas._libs.parsers.TextReader.__cinit__ (pandas/_libs/parsers.c:4209)\u001b[1;34m()\u001b[0m\n",
      "\u001b[1;32mpandas/_libs/parsers.pyx\u001b[0m in \u001b[0;36mpandas._libs.parsers.TextReader._setup_parser_source (pandas/_libs/parsers.c:8873)\u001b[1;34m()\u001b[0m\n",
      "\u001b[1;31mFileNotFoundError\u001b[0m: File b'/home/sayantani/Projects/Kaggle/Quora/input/train.csv' does not exist"
     ]
    }
   ],
   "source": [
    "train_set = pd.read_csv(os.getcwd() + '/input/train.csv')\n",
    "test_set = pd.read_csv(os.getcwd() + '/input/test.csv')\n",
    "\n",
    "train_set['question1'] = train_set['question1'].fillna('')\n",
    "train_set['question2'] = train_set['question2'].fillna('')\n",
    "test_set['question1']  = test_set['question1'].fillna('')\n",
    "test_set['question2']  = test_set['question2'].fillna('')"
   ]
  },
  {
   "cell_type": "code",
   "execution_count": 78,
   "metadata": {
    "collapsed": true
   },
   "outputs": [],
   "source": [
    "train_copy = train_set.copy()"
   ]
  },
  {
   "cell_type": "code",
   "execution_count": 79,
   "metadata": {
    "collapsed": false
   },
   "outputs": [],
   "source": [
    "def clean_text(text):\n",
    "    text = re.sub(r\"(What|what|Where|there)\\'s\", r'\\1 is', text)\n",
    "    text = re.sub(r'(I|i)\\'m', r'\\1 am', text)\n",
    "    text = re.sub(r\"(do|are|have|did|does|was|is) not\", r\"\\1n't\", text)\n",
    "    text = re.sub(r\"can not\", r\"can't'\", text)\n",
    "    text = re.sub(r\"will not\", r\"won't\", text)\n",
    "    text = re.sub(r\"I\\'ll\", r\"I will\", text)\n",
    "    \n",
    "    text = re.sub(r\"(demon)(i)(tization)\", r\"\\1e\\3\",text)\n",
    "    text = re.sub(\"de-monetize\", \"demonetize\",text)\n",
    "    text = re.sub(\"19-year-old\", \"19 year old\", text)\n",
    "    text = re.sub(\"I\\'ve\", \"I have\", text)\n",
    "    text = re.sub(\"you\\'ve\", \"you have\", text)\n",
    "    text = re.sub(\"'re\", \" are\", text)\n",
    "    text = re.sub(\"&\", \"and\", text)\n",
    "    text = re.sub(\"\\s\\.\\s\", \"\\.\", text)\n",
    "    text = re.sub(\"“|”\", \"\\\"\", text)\n",
    "    \n",
    "    #Replace multiple occurrences of spaces with a single space\n",
    "    text = re.sub(r\"(\\w+)(\\s{2})(\\w+)\", r\"\\1 \\3\", text)\n",
    "    text = re.sub(r\"(\\w+)(\\s{3})(\\w+)\", r\"\\1 \\3\", text)\n",
    "    text = re.sub(r\"(\\w+)(\\s{2})(\\d+)\", r\"\\1 \\3\", text)\n",
    "    text = re.sub(r\"(\\d+)(\\s{2})(\\w+)\", r\"\\1 \\3\", text)\n",
    "    text = re.sub(r\"(\\.)(\\s{2})(\\w+)\", r\"\\1 \\3\", text)\n",
    "    text = re.sub(r\"(\\w+)(\\s{2})(\\.)\", r\"\\1 \\3\", text)\n",
    "    text = re.sub(r\"(:\\)|:\\()\", r\"\", text)\n",
    "\n",
    "    text = re.sub(\"rupees\\snotes|rupees\\snote|rupees\\scurrency\\snotes|rupee\\snotes|currency\\snotes|Rs notes\", \"notes\", text)\n",
    "    text = re.sub(\"currency\\snote|rs\\snotes|rupee note\", \"notes\", text)\n",
    "    text = re.sub(r\"(Rs\\s+)(\\d0{2}\\sand\\s)(Rs\\s+)(\\d0{3})(\\snotes)\", r\"\\2\\4\\5\", text)\n",
    "    text = re.sub(r\"(Rs.\\s+)(\\d0{2}\\sand\\s)(Rs.\\s+)(\\d0{3})(\\snotes)\", r\"\\2\\4\\5\", text)\n",
    "    \n",
    "    #Replace number abbreviations\n",
    "    text = re.sub(r\"(\\d)(k)\", r\"\\1\\0\\0\\0\", text)\n",
    "    return text"
   ]
  },
  {
   "cell_type": "code",
   "execution_count": 80,
   "metadata": {
    "collapsed": false
   },
   "outputs": [],
   "source": [
    "train_copy['q1_clean']   = train_copy['question1'].apply(lambda x: clean_text(x))\n",
    "train_copy['q2_clean']   = train_copy['question2'].apply(lambda x: clean_text(x))"
   ]
  },
  {
   "cell_type": "code",
   "execution_count": 81,
   "metadata": {
    "collapsed": false
   },
   "outputs": [
    {
     "data": {
      "text/plain": [
       "(2003, 8)"
      ]
     },
     "execution_count": 81,
     "metadata": {},
     "output_type": "execute_result"
    }
   ],
   "source": [
    "res = train_copy[train_copy['question1'].str.contains(r\"\\d0{2}\\sand\\s\\d0{3}\")]\n",
    "res.shape"
   ]
  },
  {
   "cell_type": "code",
   "execution_count": 82,
   "metadata": {
    "collapsed": false
   },
   "outputs": [
    {
     "data": {
      "text/plain": [
       "(1138, 8)"
      ]
     },
     "execution_count": 82,
     "metadata": {},
     "output_type": "execute_result"
    }
   ],
   "source": [
    "res2 = train_copy[train_copy['question1'].str.contains(\"\\dk\")]\n",
    "res2.shape"
   ]
  },
  {
   "cell_type": "code",
   "execution_count": 83,
   "metadata": {
    "collapsed": false
   },
   "outputs": [
    {
     "name": "stdout",
     "output_type": "stream",
     "text": [
      "385056\n",
      "How should i invest my saving of 50k?\n",
      "How should i invest my saving of 5@0?\n",
      "----------------------------------------------\n",
      "Where should I invest my savings?\n",
      "Where should I invest my savings?\n"
     ]
    }
   ],
   "source": [
    "idx = np.random.choice(res2.index.values)\n",
    "print(idx)\n",
    "print(train_copy.loc[idx]['question1'])\n",
    "print(train_copy.loc[idx]['q1_clean'])\n",
    "\n",
    "print(\"----------------------------------------------\")\n",
    "print(train_copy.loc[idx]['question2'])\n",
    "print(train_copy.loc[idx]['q2_clean'])"
   ]
  },
  {
   "cell_type": "code",
   "execution_count": 12,
   "metadata": {
    "collapsed": false
   },
   "outputs": [],
   "source": [
    "train_copy['q1_demonetize']    = train_copy['q1_clean'].str.contains(\"\\d0{2}\\sand\\s\\d0{3}\\snotes\")\n",
    "train_copy['q2_demonetize']    = train_copy['q2_clean'].str.contains(\"\\d0{2}\\sand\\s\\d0{3}\\snotes\")\n",
    "\n",
    "train_copy['q1_demonetize']    = train_copy['q1_demonetize'].map({True: 1, False: 0})\n",
    "train_copy['q2_demonetize']    = train_copy['q2_demonetize'].map({True: 1, False: 0})"
   ]
  },
  {
   "cell_type": "code",
   "execution_count": 13,
   "metadata": {
    "collapsed": false
   },
   "outputs": [
    {
     "data": {
      "text/plain": [
       "0    402127\n",
       "1      2163\n",
       "Name: q1_demonetize, dtype: int64"
      ]
     },
     "execution_count": 13,
     "metadata": {},
     "output_type": "execute_result"
    }
   ],
   "source": [
    "train_copy['q1_demonetize'].value_counts()"
   ]
  },
  {
   "cell_type": "code",
   "execution_count": 14,
   "metadata": {
    "collapsed": false
   },
   "outputs": [
    {
     "data": {
      "text/plain": [
       "0    402070\n",
       "1      2220\n",
       "Name: q2_demonetize, dtype: int64"
      ]
     },
     "execution_count": 14,
     "metadata": {},
     "output_type": "execute_result"
    }
   ],
   "source": [
    "train_copy['q2_demonetize'].value_counts()"
   ]
  },
  {
   "cell_type": "code",
   "execution_count": 15,
   "metadata": {
    "collapsed": false
   },
   "outputs": [],
   "source": [
    "train_copy['q1_tokens']    = train_copy['q1_clean'].apply(lambda x: find_unigrams(x))\n",
    "train_copy['q2_tokens']    = train_copy['q2_clean'].apply(lambda x: find_unigrams(x))\n",
    "train_copy['shared_words'] = train_copy.apply(lambda x: shared_words(x), axis=1)\n",
    "\n",
    "train_copy['q1_len']       = train_copy['q1_tokens'].apply(len)\n",
    "train_copy['q2_len']       = train_copy['q2_tokens'].apply(len)\n",
    "\n",
    "train_copy['shared_len']   = train_copy['shared_words'].apply(len)\n",
    "train_copy['shared_prop']  = train_copy.apply(lambda x: shared_prop(x), axis=1)"
   ]
  },
  {
   "cell_type": "code",
   "execution_count": 16,
   "metadata": {
    "collapsed": true
   },
   "outputs": [],
   "source": [
    "X = train_copy[['shared_len', 'shared_prop', 'q1_demonetize', 'q2_demonetize']]\n",
    "y = train_copy[TARGET]\n",
    "\n",
    "X_train, X_test, y_train, y_test = train_test_split(X, y, test_size=0.33, random_state=42)\n",
    "clf = RandomForestClassifier(random_state=0)\n",
    "clf = clf.fit(X_train, y_train)\n",
    "\n",
    "y_proba = clf.predict_proba(X_test)\n",
    "log_loss_score = log_loss(y_test, y_proba)\n",
    "metrics.append(log_loss_score)"
   ]
  },
  {
   "cell_type": "code",
   "execution_count": 17,
   "metadata": {
    "collapsed": false
   },
   "outputs": [
    {
     "data": {
      "text/plain": [
       "[0.48457630842422394]"
      ]
     },
     "execution_count": 17,
     "metadata": {},
     "output_type": "execute_result"
    }
   ],
   "source": [
    "metrics"
   ]
  },
  {
   "cell_type": "code",
   "execution_count": null,
   "metadata": {
    "collapsed": false
   },
   "outputs": [],
   "source": [
    "# train_corpus = pd.Series(train_set['question1'].tolist())\n",
    "# len(train_corpus)"
   ]
  },
  {
   "cell_type": "code",
   "execution_count": null,
   "metadata": {
    "collapsed": false,
    "scrolled": true
   },
   "outputs": [],
   "source": [
    "# bow_transformer = CountVectorizer(analyzer='word', ngram_range=(1,2), max_features=256, stop_words='english')\n",
    "# bow_matrix =  bow_transformer.fit_transform(train_corpus)\n",
    "\n",
    "# vocab = bow_transformer.get_feature_names()\n",
    "# bow_matrix = bow_matrix.toarray()\n",
    "\n",
    "# document_freq = np.sum(bow_matrix, axis=1)\n",
    "# word_count = np.sum(bow_matrix, axis=0)\n",
    "\n",
    "# words_count = pd.DataFrame(word_count, columns=['freq'], index=vocab)\n",
    "# words_count = words_count.sort_values('freq', ascending=False)"
   ]
  },
  {
   "cell_type": "code",
   "execution_count": null,
   "metadata": {
    "collapsed": true
   },
   "outputs": [],
   "source": [
    "# tf = TfidfVectorizer(analyzer='word', ngram_range=(1,2), min_df = 0, max_features=256, stop_words='english')\n",
    "# tfidf_matrix =  tf.fit_transform(train_corpus)\n",
    "# dense = tfidf_matrix.todense()\n",
    "# feature_names = tf.get_feature_names()"
   ]
  },
  {
   "cell_type": "code",
   "execution_count": null,
   "metadata": {
    "collapsed": false
   },
   "outputs": [],
   "source": [
    "# episode = dense[0].tolist()[0]\n",
    "# phrase_scores = [pair for pair in zip(range(0, len(episode)), episode) if pair[1] > 0]\n",
    "# phrase_scores = sorted(phrase_scores, key=lambda t: t[1] * -1)\n",
    "\n",
    "\n",
    "# for phrase, score in [(feature_names[word_id], score) for (word_id, score) in phrase_scores]:\n",
    "#    print(\"{0:<20} {1}\".format(phrase, score))"
   ]
  },
  {
   "cell_type": "code",
   "execution_count": null,
   "metadata": {
    "collapsed": false
   },
   "outputs": [],
   "source": [
    "# gb_qid  = train_set.groupby('qid1').filter(lambda x: len(x) > 1).groupby('qid1')\n",
    "# duplicate_qid1 = sorted(list(gb_qid.groups))\n",
    "# len(duplicate_qid1)"
   ]
  },
  {
   "cell_type": "code",
   "execution_count": null,
   "metadata": {
    "collapsed": true
   },
   "outputs": [],
   "source": [
    "# stats = gb_qid['is_duplicate'].agg({np.sum, np.size})\n",
    "# only_duplicates = stats.loc[stats['sum'] == stats['size']].sort_values(['size'], ascending=False)\n",
    "# duplicate_df = train_set.loc[train_set['qid1'].isin(only_duplicates.index)]"
   ]
  },
  {
   "cell_type": "code",
   "execution_count": null,
   "metadata": {
    "collapsed": true
   },
   "outputs": [],
   "source": [
    "# train_set.loc[train_set['qid1'].isin(duplicate_qid1), 'graph_root'] = 1\n",
    "\n",
    "# train_set['graph_root'].fillna(0, inplace=True)\n",
    "# train_set['graph_root'] = train_set['graph_root'].astype(int)"
   ]
  },
  {
   "cell_type": "code",
   "execution_count": null,
   "metadata": {
    "collapsed": false
   },
   "outputs": [],
   "source": [
    "# for node in only_duplicates.index:\n",
    "#     group = train_set.loc[train_set['qid1'] == node]\n",
    "#     group1 = train_set.loc[train_set['qid1'].isin(group['qid2'])]\n",
    "    \n",
    "#     if len(group1) > 0:\n",
    "#         train_set.loc[train_set['qid1'] == node, 'neighbors'] = len(group1)\n",
    "        \n",
    "# train_set['neighbors'].fillna(0, inplace=True)\n",
    "# train_set['neighbors'] = train_set['neighbors'].astype(int)"
   ]
  },
  {
   "cell_type": "code",
   "execution_count": null,
   "metadata": {
    "collapsed": false
   },
   "outputs": [],
   "source": [
    "#from nltk.book import *"
   ]
  }
 ],
 "metadata": {
  "kernelspec": {
   "display_name": "Python 3",
   "language": "python",
   "name": "python3"
  },
  "language_info": {
   "codemirror_mode": {
    "name": "ipython",
    "version": 3
   },
   "file_extension": ".py",
   "mimetype": "text/x-python",
   "name": "python",
   "nbconvert_exporter": "python",
   "pygments_lexer": "ipython3",
   "version": "3.5.2"
  }
 },
 "nbformat": 4,
 "nbformat_minor": 0
}
